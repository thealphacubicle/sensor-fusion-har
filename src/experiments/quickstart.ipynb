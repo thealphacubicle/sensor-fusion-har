{
 "cells": [
  {
   "metadata": {},
   "cell_type": "markdown",
   "source": "## EDA: Exploratory Data Analysis",
   "id": "2b3967c522e81fea"
  },
  {
   "metadata": {},
   "cell_type": "markdown",
   "source": "## Training & Test Data",
   "id": "21745e7a907835e2"
  },
  {
   "metadata": {},
   "cell_type": "code",
   "outputs": [],
   "execution_count": null,
   "source": [
    "import pandas as pd\n",
    "import polars as pl\n",
    "from pathlib import Path\n",
    "\n",
    "# Set configs\n",
    "BASE_DIR = Path().resolve().parent.parent\n",
    "print(BASE_DIR)"
   ],
   "id": "64bd8b139661196d"
  },
  {
   "metadata": {},
   "cell_type": "code",
   "outputs": [],
   "execution_count": null,
   "source": [
    "# Load the datasets\n",
    "df_test = pl.read_parquet(BASE_DIR / \"data\" / \"processed\" / \"test.parquet\")\n",
    "df_train = pl.read_parquet(BASE_DIR / \"data\" / \"processed\" / \"train.parquet\")"
   ],
   "id": "41762c4d03a13b85"
  },
  {
   "metadata": {},
   "cell_type": "code",
   "outputs": [],
   "execution_count": null,
   "source": "df_test.head()",
   "id": "e89d5fb5eef3841e"
  },
  {
   "metadata": {},
   "cell_type": "code",
   "outputs": [],
   "execution_count": null,
   "source": "df_train.head()",
   "id": "e88691595df5cd1a"
  },
  {
   "metadata": {},
   "cell_type": "code",
   "outputs": [],
   "execution_count": null,
   "source": "print(\"Size of test set: \", df_test.shape, \"\\nSize of train set: \", df_train.shape)\n",
   "id": "f31185779b4a48a"
  },
  {
   "metadata": {},
   "cell_type": "code",
   "outputs": [],
   "execution_count": null,
   "source": [
    "print(\"Memory usage of test set: \", df_test.estimated_size() / 1024**2, \"MB\",\n",
    "      \"\\nMemory usage of train set: \", df_train.estimated_size() / 1024**2, \"MB\")"
   ],
   "id": "adf7424942b90f2c"
  },
  {
   "metadata": {},
   "cell_type": "markdown",
   "source": "## Training Results",
   "id": "b34e624448aaf7bb"
  },
  {
   "metadata": {},
   "cell_type": "code",
   "outputs": [],
   "execution_count": null,
   "source": [
    "import pandas as pd\n",
    "\n",
    "training_runs_df = pd.read_csv(BASE_DIR / \"data/training_results_har.csv\")\n",
    "\n",
    "training_runs_df.head()"
   ],
   "id": "c5ff5e0c37a62416"
  },
  {
   "metadata": {},
   "cell_type": "code",
   "outputs": [],
   "execution_count": null,
   "source": "training_runs_df.dtypes",
   "id": "1d99ae0295166241"
  },
  {
   "metadata": {},
   "cell_type": "code",
   "outputs": [],
   "execution_count": null,
   "source": [
    "# Unique types of models trained\n",
    "model_num = len(training_runs_df['model'].unique())\n",
    "print(\"Number of unique models trained: \", model_num)\n",
    "\n",
    "# Unique sensor combinations used\n",
    "sensor_comb_num = len(training_runs_df['sensor_config'].unique())\n",
    "print(\"Number of unique sensor combinations used: \", sensor_comb_num)"
   ],
   "id": "fe7802286c77718d"
  },
  {
   "metadata": {},
   "cell_type": "code",
   "outputs": [],
   "execution_count": null,
   "source": [
    "# Number of unique models trained per model type\n",
    "unique_models = training_runs_df[\"model\"].unique()\n",
    "for model in unique_models:\n",
    "    x = len(training_runs_df[training_runs_df[\"model\"] == model])\n",
    "    print(f\"For model type --> {model}, {x} unique models were trained\")\n"
   ],
   "id": "6cd9fa689286c96c"
  },
  {
   "metadata": {},
   "cell_type": "code",
   "outputs": [],
   "execution_count": null,
   "source": [
    "# Best model for each unique model type by generalization gap\n",
    "for model in unique_models:\n",
    "    x = training_runs_df[training_runs_df[\"model\"] == model]\n",
    "    best_model_index = x['generalization_gap'].values.argmin()\n",
    "    best_model_name = x.iloc[best_model_index]['Name']\n",
    "\n",
    "    print(f\"For model type {model} ---> Best model name: {best_model_name}\")"
   ],
   "id": "fe377bf2649e22b8"
  }
 ],
 "metadata": {
  "kernelspec": {
   "display_name": "Python 3",
   "language": "python",
   "name": "python3"
  },
  "language_info": {
   "codemirror_mode": {
    "name": "ipython",
    "version": 2
   },
   "file_extension": ".py",
   "mimetype": "text/x-python",
   "name": "python",
   "nbconvert_exporter": "python",
   "pygments_lexer": "ipython2",
   "version": "2.7.6"
  }
 },
 "nbformat": 4,
 "nbformat_minor": 5
}
