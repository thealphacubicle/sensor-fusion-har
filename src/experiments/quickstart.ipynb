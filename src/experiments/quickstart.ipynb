{
 "cells": [
  {
   "metadata": {},
   "cell_type": "markdown",
   "source": "## Quickstart: Load and Inspect Datasets",
   "id": "e10a7fb22af08b63"
  },
  {
   "cell_type": "code",
   "id": "initial_id",
   "metadata": {
    "collapsed": true,
    "ExecuteTime": {
     "end_time": "2025-07-14T15:00:51.601119Z",
     "start_time": "2025-07-14T15:00:51.594291Z"
    }
   },
   "source": [
    "import polars as pl\n",
    "from pathlib import Path\n",
    "\n",
    "# Set configs\n",
    "BASE_DIR = Path().resolve().parent.parent"
   ],
   "outputs": [],
   "execution_count": 20
  },
  {
   "metadata": {
    "ExecuteTime": {
     "end_time": "2025-07-14T15:01:05.896398Z",
     "start_time": "2025-07-14T15:01:05.724218Z"
    }
   },
   "cell_type": "code",
   "source": [
    "# Load the datasets\n",
    "df_test = pl.read_parquet(BASE_DIR / \"data\" / \"processed\" / \"test.parquet\")\n",
    "df_train = pl.read_parquet(BASE_DIR / \"data\" / \"processed\" / \"train.parquet\")"
   ],
   "id": "fca6d28a922f3f31",
   "outputs": [],
   "execution_count": 22
  },
  {
   "metadata": {
    "ExecuteTime": {
     "end_time": "2025-07-14T15:03:08.474936Z",
     "start_time": "2025-07-14T15:03:08.455801Z"
    }
   },
   "cell_type": "code",
   "source": "df_test.head()",
   "id": "d826582c8ebe98e",
   "outputs": [
    {
     "data": {
      "text/plain": [
       "shape: (5, 564)\n",
       "┌────────────┬────────────┬───────────┬───────────┬───┬───────────┬───────────┬─────────┬──────────┐\n",
       "│ tBodyAcc-m ┆ tBodyAcc-m ┆ tBodyAcc- ┆ tBodyAcc- ┆ … ┆ angle(Z,g ┆ activity_ ┆ subject ┆ activity │\n",
       "│ ean()-X    ┆ ean()-Y    ┆ mean()-Z  ┆ std()-X   ┆   ┆ ravityMea ┆ id        ┆ ---     ┆ ---      │\n",
       "│ ---        ┆ ---        ┆ ---       ┆ ---       ┆   ┆ n)        ┆ ---       ┆ i64     ┆ str      │\n",
       "│ f64        ┆ f64        ┆ f64       ┆ f64       ┆   ┆ ---       ┆ i64       ┆         ┆          │\n",
       "│            ┆            ┆           ┆           ┆   ┆ f64       ┆           ┆         ┆          │\n",
       "╞════════════╪════════════╪═══════════╪═══════════╪═══╪═══════════╪═══════════╪═════════╪══════════╡\n",
       "│ 0.257178   ┆ -0.023285  ┆ -0.014654 ┆ -0.938404 ┆ … ┆ -0.057978 ┆ 5         ┆ 2       ┆ STANDING │\n",
       "│ 0.286027   ┆ -0.013163  ┆ -0.119083 ┆ -0.975415 ┆ … ┆ -0.083898 ┆ 5         ┆ 2       ┆ STANDING │\n",
       "│ 0.275485   ┆ -0.02605   ┆ -0.118152 ┆ -0.993819 ┆ … ┆ -0.079346 ┆ 5         ┆ 2       ┆ STANDING │\n",
       "│ 0.270298   ┆ -0.032614  ┆ -0.11752  ┆ -0.994743 ┆ … ┆ -0.077108 ┆ 5         ┆ 2       ┆ STANDING │\n",
       "│ 0.274833   ┆ -0.027848  ┆ -0.129527 ┆ -0.993852 ┆ … ┆ -0.073857 ┆ 5         ┆ 2       ┆ STANDING │\n",
       "└────────────┴────────────┴───────────┴───────────┴───┴───────────┴───────────┴─────────┴──────────┘"
      ],
      "text/html": [
       "<div><style>\n",
       ".dataframe > thead > tr,\n",
       ".dataframe > tbody > tr {\n",
       "  text-align: right;\n",
       "  white-space: pre-wrap;\n",
       "}\n",
       "</style>\n",
       "<small>shape: (5, 564)</small><table border=\"1\" class=\"dataframe\"><thead><tr><th>tBodyAcc-mean()-X</th><th>tBodyAcc-mean()-Y</th><th>tBodyAcc-mean()-Z</th><th>tBodyAcc-std()-X</th><th>tBodyAcc-std()-Y</th><th>tBodyAcc-std()-Z</th><th>tBodyAcc-mad()-X</th><th>tBodyAcc-mad()-Y</th><th>tBodyAcc-mad()-Z</th><th>tBodyAcc-max()-X</th><th>tBodyAcc-max()-Y</th><th>tBodyAcc-max()-Z</th><th>tBodyAcc-min()-X</th><th>tBodyAcc-min()-Y</th><th>tBodyAcc-min()-Z</th><th>tBodyAcc-sma()</th><th>tBodyAcc-energy()-X</th><th>tBodyAcc-energy()-Y</th><th>tBodyAcc-energy()-Z</th><th>tBodyAcc-iqr()-X</th><th>tBodyAcc-iqr()-Y</th><th>tBodyAcc-iqr()-Z</th><th>tBodyAcc-entropy()-X</th><th>tBodyAcc-entropy()-Y</th><th>tBodyAcc-entropy()-Z</th><th>tBodyAcc-arCoeff()-X,1</th><th>tBodyAcc-arCoeff()-X,2</th><th>tBodyAcc-arCoeff()-X,3</th><th>tBodyAcc-arCoeff()-X,4</th><th>tBodyAcc-arCoeff()-Y,1</th><th>tBodyAcc-arCoeff()-Y,2</th><th>tBodyAcc-arCoeff()-Y,3</th><th>tBodyAcc-arCoeff()-Y,4</th><th>tBodyAcc-arCoeff()-Z,1</th><th>tBodyAcc-arCoeff()-Z,2</th><th>tBodyAcc-arCoeff()-Z,3</th><th>tBodyAcc-arCoeff()-Z,4</th><th>&hellip;</th><th>fBodyBodyAccJerkMag-kurtosis()</th><th>fBodyBodyGyroMag-mean()</th><th>fBodyBodyGyroMag-std()</th><th>fBodyBodyGyroMag-mad()</th><th>fBodyBodyGyroMag-max()</th><th>fBodyBodyGyroMag-min()</th><th>fBodyBodyGyroMag-sma()</th><th>fBodyBodyGyroMag-energy()</th><th>fBodyBodyGyroMag-iqr()</th><th>fBodyBodyGyroMag-entropy()</th><th>fBodyBodyGyroMag-maxInds</th><th>fBodyBodyGyroMag-meanFreq()</th><th>fBodyBodyGyroMag-skewness()</th><th>fBodyBodyGyroMag-kurtosis()</th><th>fBodyBodyGyroJerkMag-mean()</th><th>fBodyBodyGyroJerkMag-std()</th><th>fBodyBodyGyroJerkMag-mad()</th><th>fBodyBodyGyroJerkMag-max()</th><th>fBodyBodyGyroJerkMag-min()</th><th>fBodyBodyGyroJerkMag-sma()</th><th>fBodyBodyGyroJerkMag-energy()</th><th>fBodyBodyGyroJerkMag-iqr()</th><th>fBodyBodyGyroJerkMag-entropy()</th><th>fBodyBodyGyroJerkMag-maxInds</th><th>fBodyBodyGyroJerkMag-meanFreq()</th><th>fBodyBodyGyroJerkMag-skewness()</th><th>fBodyBodyGyroJerkMag-kurtosis()</th><th>angle(tBodyAccMean,gravity)</th><th>angle(tBodyAccJerkMean),gravityMean)</th><th>angle(tBodyGyroMean,gravityMean)</th><th>angle(tBodyGyroJerkMean,gravityMean)</th><th>angle(X,gravityMean)</th><th>angle(Y,gravityMean)</th><th>angle(Z,gravityMean)</th><th>activity_id</th><th>subject</th><th>activity</th></tr><tr><td>f64</td><td>f64</td><td>f64</td><td>f64</td><td>f64</td><td>f64</td><td>f64</td><td>f64</td><td>f64</td><td>f64</td><td>f64</td><td>f64</td><td>f64</td><td>f64</td><td>f64</td><td>f64</td><td>f64</td><td>f64</td><td>f64</td><td>f64</td><td>f64</td><td>f64</td><td>f64</td><td>f64</td><td>f64</td><td>f64</td><td>f64</td><td>f64</td><td>f64</td><td>f64</td><td>f64</td><td>f64</td><td>f64</td><td>f64</td><td>f64</td><td>f64</td><td>f64</td><td>&hellip;</td><td>f64</td><td>f64</td><td>f64</td><td>f64</td><td>f64</td><td>f64</td><td>f64</td><td>f64</td><td>f64</td><td>f64</td><td>f64</td><td>f64</td><td>f64</td><td>f64</td><td>f64</td><td>f64</td><td>f64</td><td>f64</td><td>f64</td><td>f64</td><td>f64</td><td>f64</td><td>f64</td><td>f64</td><td>f64</td><td>f64</td><td>f64</td><td>f64</td><td>f64</td><td>f64</td><td>f64</td><td>f64</td><td>f64</td><td>f64</td><td>i64</td><td>i64</td><td>str</td></tr></thead><tbody><tr><td>0.257178</td><td>-0.023285</td><td>-0.014654</td><td>-0.938404</td><td>-0.920091</td><td>-0.667683</td><td>-0.952501</td><td>-0.925249</td><td>-0.674302</td><td>-0.894088</td><td>-0.554577</td><td>-0.466223</td><td>0.717208</td><td>0.6355024</td><td>0.789497</td><td>-0.877764</td><td>-0.997766</td><td>-0.998414</td><td>-0.934345</td><td>-0.975669</td><td>-0.949824</td><td>-0.830478</td><td>-0.168084</td><td>-0.378996</td><td>0.246217</td><td>0.521204</td><td>-0.487793</td><td>0.48228</td><td>-0.045462</td><td>0.211955</td><td>-0.134894</td><td>0.130858</td><td>-0.014176</td><td>-0.105971</td><td>0.073544</td><td>-0.171516</td><td>0.040063</td><td>&hellip;</td><td>-0.700326</td><td>-0.77061</td><td>-0.797113</td><td>-0.764485</td><td>-0.820188</td><td>-0.937959</td><td>-0.77061</td><td>-0.970958</td><td>-0.798387</td><td>0.179435</td><td>-1.0</td><td>-0.047391</td><td>-0.467849</td><td>-0.761326</td><td>-0.890165</td><td>-0.907308</td><td>-0.895301</td><td>-0.917883</td><td>-0.909829</td><td>-0.890165</td><td>-0.994105</td><td>-0.898022</td><td>-0.234815</td><td>-1.0</td><td>0.071645</td><td>-0.33037</td><td>-0.705974</td><td>0.006462</td><td>0.16292</td><td>-0.825886</td><td>0.271151</td><td>-0.720009</td><td>0.276801</td><td>-0.057978</td><td>5</td><td>2</td><td>&quot;STANDING&quot;</td></tr><tr><td>0.286027</td><td>-0.013163</td><td>-0.119083</td><td>-0.975415</td><td>-0.967458</td><td>-0.944958</td><td>-0.986799</td><td>-0.968401</td><td>-0.945823</td><td>-0.894088</td><td>-0.554577</td><td>-0.806013</td><td>0.768031</td><td>0.683698</td><td>0.796706</td><td>-0.969097</td><td>-0.99958</td><td>-0.999646</td><td>-0.99772</td><td>-0.994006</td><td>-0.973637</td><td>-0.95072</td><td>-0.302437</td><td>-0.348243</td><td>-0.404785</td><td>0.5074924</td><td>-0.156495</td><td>0.040674</td><td>0.272991</td><td>0.197566</td><td>-0.194556</td><td>0.411411</td><td>-0.340466</td><td>0.077555</td><td>-0.084024</td><td>0.035305</td><td>-0.010083</td><td>&hellip;</td><td>-0.666004</td><td>-0.924461</td><td>-0.916774</td><td>-0.919383</td><td>-0.917983</td><td>-0.991121</td><td>-0.924461</td><td>-0.995727</td><td>-0.933127</td><td>-0.21886</td><td>-1.0</td><td>-0.031474</td><td>-0.090655</td><td>-0.461801</td><td>-0.951977</td><td>-0.938212</td><td>-0.938008</td><td>-0.949922</td><td>-0.986902</td><td>-0.951977</td><td>-0.998272</td><td>-0.951255</td><td>-0.431053</td><td>-1.0</td><td>-0.401189</td><td>-0.121845</td><td>-0.594944</td><td>-0.083495</td><td>0.0175</td><td>-0.434375</td><td>0.920593</td><td>-0.698091</td><td>0.281343</td><td>-0.083898</td><td>5</td><td>2</td><td>&quot;STANDING&quot;</td></tr><tr><td>0.275485</td><td>-0.02605</td><td>-0.118152</td><td>-0.993819</td><td>-0.969926</td><td>-0.962748</td><td>-0.994403</td><td>-0.970735</td><td>-0.963483</td><td>-0.93926</td><td>-0.568512</td><td>-0.799116</td><td>0.848305</td><td>0.667864</td><td>0.822442</td><td>-0.976782</td><td>-0.999954</td><td>-0.99957</td><td>-0.99872</td><td>-0.993456</td><td>-0.974266</td><td>-0.964976</td><td>-0.617916</td><td>-0.69549</td><td>-0.536693</td><td>0.242147</td><td>-0.114997</td><td>0.032703</td><td>0.192385</td><td>-0.011945</td><td>-0.063363</td><td>0.470819</td><td>-0.507395</td><td>0.188536</td><td>-0.231575</td><td>0.6321196</td><td>-0.550708</td><td>&hellip;</td><td>-0.639809</td><td>-0.975209</td><td>-0.973998</td><td>-0.967097</td><td>-0.982849</td><td>-0.997663</td><td>-0.975209</td><td>-0.999504</td><td>-0.96826</td><td>-0.561266</td><td>-0.897436</td><td>-0.168805</td><td>-0.662317</td><td>-0.925364</td><td>-0.985689</td><td>-0.983273</td><td>-0.983422</td><td>-0.986857</td><td>-0.989609</td><td>-0.985689</td><td>-0.999831</td><td>-0.986148</td><td>-0.809976</td><td>-0.936508</td><td>0.062891</td><td>-0.190422</td><td>-0.640736</td><td>-0.034956</td><td>0.202302</td><td>0.064103</td><td>0.145068</td><td>-0.702771</td><td>0.280083</td><td>-0.079346</td><td>5</td><td>2</td><td>&quot;STANDING&quot;</td></tr><tr><td>0.270298</td><td>-0.032614</td><td>-0.11752</td><td>-0.994743</td><td>-0.973268</td><td>-0.967091</td><td>-0.995274</td><td>-0.974471</td><td>-0.968897</td><td>-0.93861</td><td>-0.568512</td><td>-0.799116</td><td>0.848305</td><td>0.667864</td><td>0.822442</td><td>-0.974418</td><td>-0.999953</td><td>-0.99933</td><td>-0.998933</td><td>-0.995236</td><td>-0.978739</td><td>-0.969982</td><td>-0.749578</td><td>-0.899226</td><td>-0.553813</td><td>0.174684</td><td>-0.051332</td><td>0.0342</td><td>0.153639</td><td>0.030767</td><td>-0.129277</td><td>0.4461</td><td>-0.419496</td><td>0.271493</td><td>-0.225769</td><td>0.416376</td><td>-0.286445</td><td>&hellip;</td><td>-0.887178</td><td>-0.976297</td><td>-0.971248</td><td>-0.966029</td><td>-0.974878</td><td>-0.996129</td><td>-0.976297</td><td>-0.999458</td><td>-0.975174</td><td>-0.566733</td><td>-0.948718</td><td>-0.285636</td><td>-0.446478</td><td>-0.756855</td><td>-0.985562</td><td>-0.985843</td><td>-0.984217</td><td>-0.988566</td><td>-0.992021</td><td>-0.985562</td><td>-0.99985</td><td>-0.984015</td><td>-0.849081</td><td>-0.936508</td><td>0.116695</td><td>-0.344418</td><td>-0.736124</td><td>-0.017067</td><td>0.154438</td><td>0.340134</td><td>0.296407</td><td>-0.698954</td><td>0.284114</td><td>-0.077108</td><td>5</td><td>2</td><td>&quot;STANDING&quot;</td></tr><tr><td>0.274833</td><td>-0.027848</td><td>-0.129527</td><td>-0.993852</td><td>-0.967445</td><td>-0.978295</td><td>-0.994111</td><td>-0.965953</td><td>-0.977346</td><td>-0.93861</td><td>-0.560831</td><td>-0.825894</td><td>0.849179</td><td>0.6707</td><td>0.8298973</td><td>-0.975283</td><td>-0.999954</td><td>-0.999467</td><td>-0.998823</td><td>-0.993498</td><td>-0.967032</td><td>-0.976257</td><td>-0.590576</td><td>-0.740206</td><td>-0.799419</td><td>0.11557</td><td>-0.028923</td><td>-0.032804</td><td>0.29434</td><td>0.00063</td><td>-0.045272</td><td>0.168419</td><td>-0.068156</td><td>0.074384</td><td>0.027138</td><td>-0.145931</td><td>-0.050197</td><td>&hellip;</td><td>-0.831313</td><td>-0.977007</td><td>-0.969619</td><td>-0.968915</td><td>-0.973746</td><td>-0.99697</td><td>-0.977007</td><td>-0.999429</td><td>-0.976111</td><td>-0.555564</td><td>-1.0</td><td>-0.349061</td><td>-0.319763</td><td>-0.691739</td><td>-0.990498</td><td>-0.990572</td><td>-0.988406</td><td>-0.992653</td><td>-0.992505</td><td>-0.990498</td><td>-0.999925</td><td>-0.986376</td><td>-0.895847</td><td>-0.936508</td><td>-0.121711</td><td>-0.534685</td><td>-0.846595</td><td>-0.002223</td><td>-0.040046</td><td>0.736715</td><td>-0.118545</td><td>-0.692245</td><td>0.290722</td><td>-0.073857</td><td>5</td><td>2</td><td>&quot;STANDING&quot;</td></tr></tbody></table></div>"
      ]
     },
     "execution_count": 28,
     "metadata": {},
     "output_type": "execute_result"
    }
   ],
   "execution_count": 28
  },
  {
   "metadata": {
    "ExecuteTime": {
     "end_time": "2025-07-14T15:03:12.247976Z",
     "start_time": "2025-07-14T15:03:12.230839Z"
    }
   },
   "cell_type": "code",
   "source": "df_train.head()",
   "id": "1211837cad5d2183",
   "outputs": [
    {
     "data": {
      "text/plain": [
       "shape: (5, 564)\n",
       "┌────────────┬────────────┬───────────┬───────────┬───┬───────────┬───────────┬─────────┬──────────┐\n",
       "│ tBodyAcc-m ┆ tBodyAcc-m ┆ tBodyAcc- ┆ tBodyAcc- ┆ … ┆ angle(Z,g ┆ activity_ ┆ subject ┆ activity │\n",
       "│ ean()-X    ┆ ean()-Y    ┆ mean()-Z  ┆ std()-X   ┆   ┆ ravityMea ┆ id        ┆ ---     ┆ ---      │\n",
       "│ ---        ┆ ---        ┆ ---       ┆ ---       ┆   ┆ n)        ┆ ---       ┆ i64     ┆ str      │\n",
       "│ f64        ┆ f64        ┆ f64       ┆ f64       ┆   ┆ ---       ┆ i64       ┆         ┆          │\n",
       "│            ┆            ┆           ┆           ┆   ┆ f64       ┆           ┆         ┆          │\n",
       "╞════════════╪════════════╪═══════════╪═══════════╪═══╪═══════════╪═══════════╪═════════╪══════════╡\n",
       "│ 0.288585   ┆ -0.020294  ┆ -0.132905 ┆ -0.995279 ┆ … ┆ -0.058627 ┆ 5         ┆ 1       ┆ STANDING │\n",
       "│ 0.278419   ┆ -0.016411  ┆ -0.12352  ┆ -0.998245 ┆ … ┆ -0.054317 ┆ 5         ┆ 1       ┆ STANDING │\n",
       "│ 0.279653   ┆ -0.019467  ┆ -0.113462 ┆ -0.99538  ┆ … ┆ -0.049118 ┆ 5         ┆ 1       ┆ STANDING │\n",
       "│ 0.279174   ┆ -0.026201  ┆ -0.123283 ┆ -0.996091 ┆ … ┆ -0.047663 ┆ 5         ┆ 1       ┆ STANDING │\n",
       "│ 0.276629   ┆ -0.01657   ┆ -0.115362 ┆ -0.998139 ┆ … ┆ -0.043892 ┆ 5         ┆ 1       ┆ STANDING │\n",
       "└────────────┴────────────┴───────────┴───────────┴───┴───────────┴───────────┴─────────┴──────────┘"
      ],
      "text/html": [
       "<div><style>\n",
       ".dataframe > thead > tr,\n",
       ".dataframe > tbody > tr {\n",
       "  text-align: right;\n",
       "  white-space: pre-wrap;\n",
       "}\n",
       "</style>\n",
       "<small>shape: (5, 564)</small><table border=\"1\" class=\"dataframe\"><thead><tr><th>tBodyAcc-mean()-X</th><th>tBodyAcc-mean()-Y</th><th>tBodyAcc-mean()-Z</th><th>tBodyAcc-std()-X</th><th>tBodyAcc-std()-Y</th><th>tBodyAcc-std()-Z</th><th>tBodyAcc-mad()-X</th><th>tBodyAcc-mad()-Y</th><th>tBodyAcc-mad()-Z</th><th>tBodyAcc-max()-X</th><th>tBodyAcc-max()-Y</th><th>tBodyAcc-max()-Z</th><th>tBodyAcc-min()-X</th><th>tBodyAcc-min()-Y</th><th>tBodyAcc-min()-Z</th><th>tBodyAcc-sma()</th><th>tBodyAcc-energy()-X</th><th>tBodyAcc-energy()-Y</th><th>tBodyAcc-energy()-Z</th><th>tBodyAcc-iqr()-X</th><th>tBodyAcc-iqr()-Y</th><th>tBodyAcc-iqr()-Z</th><th>tBodyAcc-entropy()-X</th><th>tBodyAcc-entropy()-Y</th><th>tBodyAcc-entropy()-Z</th><th>tBodyAcc-arCoeff()-X,1</th><th>tBodyAcc-arCoeff()-X,2</th><th>tBodyAcc-arCoeff()-X,3</th><th>tBodyAcc-arCoeff()-X,4</th><th>tBodyAcc-arCoeff()-Y,1</th><th>tBodyAcc-arCoeff()-Y,2</th><th>tBodyAcc-arCoeff()-Y,3</th><th>tBodyAcc-arCoeff()-Y,4</th><th>tBodyAcc-arCoeff()-Z,1</th><th>tBodyAcc-arCoeff()-Z,2</th><th>tBodyAcc-arCoeff()-Z,3</th><th>tBodyAcc-arCoeff()-Z,4</th><th>&hellip;</th><th>fBodyBodyAccJerkMag-kurtosis()</th><th>fBodyBodyGyroMag-mean()</th><th>fBodyBodyGyroMag-std()</th><th>fBodyBodyGyroMag-mad()</th><th>fBodyBodyGyroMag-max()</th><th>fBodyBodyGyroMag-min()</th><th>fBodyBodyGyroMag-sma()</th><th>fBodyBodyGyroMag-energy()</th><th>fBodyBodyGyroMag-iqr()</th><th>fBodyBodyGyroMag-entropy()</th><th>fBodyBodyGyroMag-maxInds</th><th>fBodyBodyGyroMag-meanFreq()</th><th>fBodyBodyGyroMag-skewness()</th><th>fBodyBodyGyroMag-kurtosis()</th><th>fBodyBodyGyroJerkMag-mean()</th><th>fBodyBodyGyroJerkMag-std()</th><th>fBodyBodyGyroJerkMag-mad()</th><th>fBodyBodyGyroJerkMag-max()</th><th>fBodyBodyGyroJerkMag-min()</th><th>fBodyBodyGyroJerkMag-sma()</th><th>fBodyBodyGyroJerkMag-energy()</th><th>fBodyBodyGyroJerkMag-iqr()</th><th>fBodyBodyGyroJerkMag-entropy()</th><th>fBodyBodyGyroJerkMag-maxInds</th><th>fBodyBodyGyroJerkMag-meanFreq()</th><th>fBodyBodyGyroJerkMag-skewness()</th><th>fBodyBodyGyroJerkMag-kurtosis()</th><th>angle(tBodyAccMean,gravity)</th><th>angle(tBodyAccJerkMean),gravityMean)</th><th>angle(tBodyGyroMean,gravityMean)</th><th>angle(tBodyGyroJerkMean,gravityMean)</th><th>angle(X,gravityMean)</th><th>angle(Y,gravityMean)</th><th>angle(Z,gravityMean)</th><th>activity_id</th><th>subject</th><th>activity</th></tr><tr><td>f64</td><td>f64</td><td>f64</td><td>f64</td><td>f64</td><td>f64</td><td>f64</td><td>f64</td><td>f64</td><td>f64</td><td>f64</td><td>f64</td><td>f64</td><td>f64</td><td>f64</td><td>f64</td><td>f64</td><td>f64</td><td>f64</td><td>f64</td><td>f64</td><td>f64</td><td>f64</td><td>f64</td><td>f64</td><td>f64</td><td>f64</td><td>f64</td><td>f64</td><td>f64</td><td>f64</td><td>f64</td><td>f64</td><td>f64</td><td>f64</td><td>f64</td><td>f64</td><td>&hellip;</td><td>f64</td><td>f64</td><td>f64</td><td>f64</td><td>f64</td><td>f64</td><td>f64</td><td>f64</td><td>f64</td><td>f64</td><td>f64</td><td>f64</td><td>f64</td><td>f64</td><td>f64</td><td>f64</td><td>f64</td><td>f64</td><td>f64</td><td>f64</td><td>f64</td><td>f64</td><td>f64</td><td>f64</td><td>f64</td><td>f64</td><td>f64</td><td>f64</td><td>f64</td><td>f64</td><td>f64</td><td>f64</td><td>f64</td><td>f64</td><td>i64</td><td>i64</td><td>str</td></tr></thead><tbody><tr><td>0.288585</td><td>-0.020294</td><td>-0.132905</td><td>-0.995279</td><td>-0.983111</td><td>-0.913526</td><td>-0.995112</td><td>-0.983185</td><td>-0.923527</td><td>-0.934724</td><td>-0.567378</td><td>-0.744413</td><td>0.852947</td><td>0.685845</td><td>0.814263</td><td>-0.965523</td><td>-0.999945</td><td>-0.999863</td><td>-0.994612</td><td>-0.994231</td><td>-0.987614</td><td>-0.94322</td><td>-0.407747</td><td>-0.679338</td><td>-0.602122</td><td>0.929294</td><td>-0.853011</td><td>0.35991</td><td>-0.058526</td><td>0.256892</td><td>-0.224848</td><td>0.264106</td><td>-0.095246</td><td>0.278851</td><td>-0.465085</td><td>0.491936</td><td>-0.190884</td><td>&hellip;</td><td>-0.80276</td><td>-0.980135</td><td>-0.961309</td><td>-0.973653</td><td>-0.952264</td><td>-0.989498</td><td>-0.980135</td><td>-0.99924</td><td>-0.992656</td><td>-0.701291</td><td>-1.0</td><td>-0.128989</td><td>0.586156</td><td>0.374605</td><td>-0.99199</td><td>-0.990697</td><td>-0.989941</td><td>-0.992448</td><td>-0.991048</td><td>-0.99199</td><td>-0.999937</td><td>-0.990458</td><td>-0.871306</td><td>-1.0</td><td>-0.074323</td><td>-0.298676</td><td>-0.710304</td><td>-0.112754</td><td>0.0304</td><td>-0.464761</td><td>-0.018446</td><td>-0.841247</td><td>0.179941</td><td>-0.058627</td><td>5</td><td>1</td><td>&quot;STANDING&quot;</td></tr><tr><td>0.278419</td><td>-0.016411</td><td>-0.12352</td><td>-0.998245</td><td>-0.9753</td><td>-0.960322</td><td>-0.998807</td><td>-0.974914</td><td>-0.957686</td><td>-0.943068</td><td>-0.557851</td><td>-0.818409</td><td>0.849308</td><td>0.685845</td><td>0.822637</td><td>-0.98193</td><td>-0.999991</td><td>-0.999788</td><td>-0.998405</td><td>-0.99915</td><td>-0.977866</td><td>-0.948225</td><td>-0.714892</td><td>-0.50093</td><td>-0.570979</td><td>0.611627</td><td>-0.329549</td><td>0.284213</td><td>0.284595</td><td>0.115705</td><td>-0.090963</td><td>0.29431</td><td>-0.281211</td><td>0.085988</td><td>-0.022153</td><td>-0.016657</td><td>-0.220643</td><td>&hellip;</td><td>-0.90016</td><td>-0.988296</td><td>-0.983322</td><td>-0.982659</td><td>-0.986321</td><td>-0.991829</td><td>-0.988296</td><td>-0.999811</td><td>-0.993979</td><td>-0.720683</td><td>-0.948718</td><td>-0.271958</td><td>-0.33631</td><td>-0.720015</td><td>-0.995854</td><td>-0.996399</td><td>-0.995442</td><td>-0.996866</td><td>-0.99444</td><td>-0.995854</td><td>-0.999981</td><td>-0.994544</td><td>-1.0</td><td>-1.0</td><td>0.158075</td><td>-0.595051</td><td>-0.861499</td><td>0.053477</td><td>-0.007435</td><td>-0.732626</td><td>0.703511</td><td>-0.844788</td><td>0.180289</td><td>-0.054317</td><td>5</td><td>1</td><td>&quot;STANDING&quot;</td></tr><tr><td>0.279653</td><td>-0.019467</td><td>-0.113462</td><td>-0.99538</td><td>-0.967187</td><td>-0.978944</td><td>-0.99652</td><td>-0.963668</td><td>-0.977469</td><td>-0.938692</td><td>-0.557851</td><td>-0.818409</td><td>0.843609</td><td>0.682401</td><td>0.839344</td><td>-0.983478</td><td>-0.999969</td><td>-0.99966</td><td>-0.99947</td><td>-0.99713</td><td>-0.96481</td><td>-0.974675</td><td>-0.592235</td><td>-0.485821</td><td>-0.570979</td><td>0.273025</td><td>-0.086309</td><td>0.337202</td><td>-0.164739</td><td>0.01715</td><td>-0.074507</td><td>0.342256</td><td>-0.332564</td><td>0.239281</td><td>-0.136204</td><td>0.173863</td><td>-0.299493</td><td>&hellip;</td><td>-0.928539</td><td>-0.989255</td><td>-0.986028</td><td>-0.984274</td><td>-0.990979</td><td>-0.995703</td><td>-0.989255</td><td>-0.999854</td><td>-0.993238</td><td>-0.736521</td><td>-0.794872</td><td>-0.212728</td><td>-0.535352</td><td>-0.871914</td><td>-0.995031</td><td>-0.995127</td><td>-0.99464</td><td>-0.99606</td><td>-0.995866</td><td>-0.995031</td><td>-0.999973</td><td>-0.993755</td><td>-1.0</td><td>-0.555556</td><td>0.414503</td><td>-0.390748</td><td>-0.760104</td><td>-0.118559</td><td>0.177899</td><td>0.100699</td><td>0.808529</td><td>-0.848933</td><td>0.180637</td><td>-0.049118</td><td>5</td><td>1</td><td>&quot;STANDING&quot;</td></tr><tr><td>0.279174</td><td>-0.026201</td><td>-0.123283</td><td>-0.996091</td><td>-0.983403</td><td>-0.990675</td><td>-0.997099</td><td>-0.98275</td><td>-0.989302</td><td>-0.938692</td><td>-0.576159</td><td>-0.829711</td><td>0.843609</td><td>0.682401</td><td>0.837869</td><td>-0.986093</td><td>-0.999976</td><td>-0.999736</td><td>-0.999504</td><td>-0.99718</td><td>-0.983799</td><td>-0.986007</td><td>-0.627446</td><td>-0.85093</td><td>-0.911872</td><td>0.061436</td><td>0.07484</td><td>0.198204</td><td>-0.264307</td><td>0.072545</td><td>-0.15532</td><td>0.323154</td><td>-0.170813</td><td>0.294938</td><td>-0.306081</td><td>0.482148</td><td>-0.470129</td><td>&hellip;</td><td>-0.909639</td><td>-0.989413</td><td>-0.987836</td><td>-0.98685</td><td>-0.986749</td><td>-0.996199</td><td>-0.989413</td><td>-0.999876</td><td>-0.989136</td><td>-0.720891</td><td>-1.0</td><td>-0.035684</td><td>-0.230091</td><td>-0.511217</td><td>-0.995221</td><td>-0.995237</td><td>-0.995722</td><td>-0.995273</td><td>-0.995732</td><td>-0.995221</td><td>-0.999974</td><td>-0.995226</td><td>-0.955696</td><td>-0.936508</td><td>0.404573</td><td>-0.11729</td><td>-0.482845</td><td>-0.036788</td><td>-0.012892</td><td>0.640011</td><td>-0.485366</td><td>-0.848649</td><td>0.181935</td><td>-0.047663</td><td>5</td><td>1</td><td>&quot;STANDING&quot;</td></tr><tr><td>0.276629</td><td>-0.01657</td><td>-0.115362</td><td>-0.998139</td><td>-0.980817</td><td>-0.990482</td><td>-0.998321</td><td>-0.979672</td><td>-0.990441</td><td>-0.942469</td><td>-0.569174</td><td>-0.824705</td><td>0.849095</td><td>0.68325</td><td>0.837869</td><td>-0.992653</td><td>-0.999991</td><td>-0.999856</td><td>-0.999757</td><td>-0.998004</td><td>-0.981232</td><td>-0.991325</td><td>-0.786553</td><td>-0.559477</td><td>-0.761434</td><td>0.313276</td><td>-0.131208</td><td>0.191161</td><td>0.086904</td><td>0.257615</td><td>-0.272505</td><td>0.434728</td><td>-0.315375</td><td>0.439744</td><td>-0.269069</td><td>0.179414</td><td>-0.088952</td><td>&hellip;</td><td>-0.858933</td><td>-0.991433</td><td>-0.989059</td><td>-0.987744</td><td>-0.991462</td><td>-0.998353</td><td>-0.991433</td><td>-0.999902</td><td>-0.989321</td><td>-0.763372</td><td>-0.897436</td><td>-0.273582</td><td>-0.510282</td><td>-0.830702</td><td>-0.995093</td><td>-0.995465</td><td>-0.995279</td><td>-0.995609</td><td>-0.997418</td><td>-0.995093</td><td>-0.999974</td><td>-0.995487</td><td>-1.0</td><td>-0.936508</td><td>0.087753</td><td>-0.351471</td><td>-0.699205</td><td>0.12332</td><td>0.122542</td><td>0.693578</td><td>-0.615971</td><td>-0.847865</td><td>0.185151</td><td>-0.043892</td><td>5</td><td>1</td><td>&quot;STANDING&quot;</td></tr></tbody></table></div>"
      ]
     },
     "execution_count": 29,
     "metadata": {},
     "output_type": "execute_result"
    }
   ],
   "execution_count": 29
  },
  {
   "metadata": {
    "ExecuteTime": {
     "end_time": "2025-07-14T15:10:50.855763Z",
     "start_time": "2025-07-14T15:10:50.849196Z"
    }
   },
   "cell_type": "code",
   "source": "print(\"Size of test set: \", df_test.shape, \"\\nSize of train set: \", df_train.shape)\n",
   "id": "a2698b5cf26aec57",
   "outputs": [
    {
     "name": "stdout",
     "output_type": "stream",
     "text": [
      "Size of test set:  (2947, 564) \n",
      "Size of train set:  (7352, 564)\n"
     ]
    }
   ],
   "execution_count": 33
  },
  {
   "metadata": {
    "ExecuteTime": {
     "end_time": "2025-07-14T15:11:07.978188Z",
     "start_time": "2025-07-14T15:11:07.974787Z"
    }
   },
   "cell_type": "code",
   "source": [
    "print(\"Memory usage of test set: \", df_test.estimated_size() / 1024**2, \"MB\",\n",
    "      \"\\nMemory usage of train set: \", df_train.estimated_size() / 1024**2, \"MB\")"
   ],
   "id": "77c2190ec805808e",
   "outputs": [
    {
     "name": "stdout",
     "output_type": "stream",
     "text": [
      "Memory usage of test set:  12.686511039733887 MB \n",
      "Memory usage of train set:  31.648008346557617 MB\n"
     ]
    }
   ],
   "execution_count": 34
  },
  {
   "metadata": {},
   "cell_type": "code",
   "outputs": [],
   "execution_count": null,
   "source": "",
   "id": "5ab774ddeffccaba"
  }
 ],
 "metadata": {
  "kernelspec": {
   "display_name": "Python 3",
   "language": "python",
   "name": "python3"
  },
  "language_info": {
   "codemirror_mode": {
    "name": "ipython",
    "version": 2
   },
   "file_extension": ".py",
   "mimetype": "text/x-python",
   "name": "python",
   "nbconvert_exporter": "python",
   "pygments_lexer": "ipython2",
   "version": "2.7.6"
  }
 },
 "nbformat": 4,
 "nbformat_minor": 5
}
